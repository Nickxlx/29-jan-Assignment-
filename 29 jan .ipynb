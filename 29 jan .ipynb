{
 "cells": [
  {
   "cell_type": "markdown",
   "id": "21a164c1-124f-4f95-a898-3543d19efc6b",
   "metadata": {},
   "source": [
    "1. Who developed Python programing language ?\n",
    "\n",
    "Answer --> Guido Van Rossum in 1991"
   ]
  },
  {
   "cell_type": "code",
   "execution_count": null,
   "id": "7cd95952-7169-403e-8b52-ff27ea50fa16",
   "metadata": {},
   "outputs": [],
   "source": []
  },
  {
   "cell_type": "markdown",
   "id": "fce4dc63-8949-432f-af43-7cd41acb447c",
   "metadata": {},
   "source": [
    "2. Which type of Programming does Pythone support ?\n",
    "\n",
    "Answer --> OOp's(object oriented programming)"
   ]
  },
  {
   "cell_type": "code",
   "execution_count": null,
   "id": "01fa14f1-b8f1-4325-89f9-3085b2740348",
   "metadata": {},
   "outputs": [],
   "source": []
  },
  {
   "cell_type": "markdown",
   "id": "6c6211f9-0338-442e-8121-cf1bbe9f6aed",
   "metadata": {},
   "source": [
    "3. Is Python case sensitive when dealing with identifiers?\n",
    "\n",
    "Answer--> Yes, Python is a case-sensitive language even with the idemtifiers "
   ]
  },
  {
   "cell_type": "code",
   "execution_count": null,
   "id": "0d8d5923-d4cc-4322-9699-1d540e1d548f",
   "metadata": {},
   "outputs": [],
   "source": []
  },
  {
   "cell_type": "markdown",
   "id": "58a79815-2d09-403e-97b8-e30b669e1ced",
   "metadata": {},
   "source": [
    "4. What is the correct extention of the python file ?\n",
    "\n",
    "Answer --> .py"
   ]
  },
  {
   "cell_type": "code",
   "execution_count": null,
   "id": "510e9f64-1fd6-4f1e-bcfa-40792d2938f0",
   "metadata": {},
   "outputs": [],
   "source": []
  },
  {
   "cell_type": "markdown",
   "id": "9b236a3c-adf1-4efd-9185-70734960b330",
   "metadata": {},
   "source": [
    "5. Is Python code compiled or interpreted ?\n",
    "\n",
    "Answer --> Interprete "
   ]
  },
  {
   "cell_type": "code",
   "execution_count": null,
   "id": "5cebdbdd-c1f4-44b0-9e39-6cc3045f99ce",
   "metadata": {},
   "outputs": [],
   "source": []
  },
  {
   "cell_type": "markdown",
   "id": "60937839-38a7-47ee-bb54-9d60ace3e4c3",
   "metadata": {},
   "source": [
    "6. Name a few block of code used to define in Python Language?\n",
    "\n",
    "Answer -->  A module, A function body and A class definition."
   ]
  },
  {
   "cell_type": "code",
   "execution_count": null,
   "id": "7db7797e-78bb-4968-b658-2258ff53e981",
   "metadata": {},
   "outputs": [],
   "source": []
  },
  {
   "cell_type": "markdown",
   "id": "76e1c557-6f18-4b3c-aea5-439cd372c681",
   "metadata": {},
   "source": [
    "7. State a charcter used to give single-line comments in python\n",
    "\n",
    "Answer -->  #"
   ]
  },
  {
   "cell_type": "code",
   "execution_count": null,
   "id": "912100e5-c77b-4488-9f5d-daa36760bbf2",
   "metadata": {},
   "outputs": [],
   "source": []
  },
  {
   "cell_type": "markdown",
   "id": "0c069691-1552-4522-b8b8-ad32cb8cc815",
   "metadata": {},
   "source": [
    "8. Mention function which can help us to find the version of python that we are currently working on ?\n",
    "\n",
    "Answer -->  In Windows operating systems, we can use the command python --version to check the python version."
   ]
  },
  {
   "cell_type": "code",
   "execution_count": null,
   "id": "55f7fd3e-eacc-4a23-9aec-e74aa109c995",
   "metadata": {},
   "outputs": [],
   "source": []
  },
  {
   "cell_type": "markdown",
   "id": "68839db5-d020-4ff3-addf-f43c6866b703",
   "metadata": {},
   "source": [
    "9. Python support the creation of anonymous funtion at run time , using a construct called __________\n",
    "\n",
    "Answer --> lambda"
   ]
  },
  {
   "cell_type": "code",
   "execution_count": null,
   "id": "7784e895-b435-4617-83b2-b9a99ea54edb",
   "metadata": {},
   "outputs": [],
   "source": []
  },
  {
   "cell_type": "markdown",
   "id": "e4b18946-63e9-4e55-ade5-36a230245281",
   "metadata": {},
   "source": [
    "10. What does pip stands for python?\n",
    "\n",
    "Answer --> preferred installer program"
   ]
  },
  {
   "cell_type": "code",
   "execution_count": null,
   "id": "f350df4b-4638-4711-ac57-f0cb0a7e5775",
   "metadata": {},
   "outputs": [],
   "source": []
  },
  {
   "cell_type": "markdown",
   "id": "2c8b4dc5-7079-4c9e-abc4-20fa73ea8942",
   "metadata": {},
   "source": [
    "11. Mention a few buil-in function in python ?\n",
    "\n",
    "Answer --> print(), sum(), input() etc"
   ]
  },
  {
   "cell_type": "code",
   "execution_count": null,
   "id": "29041ad4-9def-463e-b940-d938c25b572b",
   "metadata": {},
   "outputs": [],
   "source": []
  },
  {
   "cell_type": "markdown",
   "id": "14a00246-1271-4ad4-95a3-39736e919358",
   "metadata": {},
   "source": [
    "12. What is the maximum possible lenght of an identifier in python?\n",
    "\n",
    "Answer --> 79 characters"
   ]
  },
  {
   "cell_type": "code",
   "execution_count": null,
   "id": "3bb2a903-d871-42bd-a28e-4cf8f1ee121e",
   "metadata": {},
   "outputs": [],
   "source": []
  },
  {
   "cell_type": "markdown",
   "id": "77960c49-cdf7-45f4-b419-389714a35961",
   "metadata": {},
   "source": [
    "13. What are the benifits of using pyhone ?\n",
    "\n",
    "Answer --> 1 Python is one of the famouse programming language all over the worl do to its easy to understande and easy to use to as an user\n",
    "           2 Pyhone support opp's which is very helpful in dividing the cord into small pieces \n",
    "           3 its is free to use as well as open source \n",
    "           3 Its is use in a weird verity of feilds like backend, framworks , AI etc"
   ]
  },
  {
   "cell_type": "code",
   "execution_count": null,
   "id": "36ca90fa-2d7f-4b4f-9ddb-d26c6aeb8e12",
   "metadata": {},
   "outputs": [],
   "source": []
  },
  {
   "cell_type": "markdown",
   "id": "add29327-db49-448d-9a6b-f06a02ac0e51",
   "metadata": {},
   "source": [
    "14. How is memory managed in Python?\n",
    "\n",
    "Answer -->Memory in Python is managed by Python private heap space. All Python objects and data structures are located in a private heap. This private heap is taken care of by Python Interpreter itself, and a programmer doesn't have access to this private heap"
   ]
  },
  {
   "cell_type": "code",
   "execution_count": null,
   "id": "692709f2-2ed7-40fc-9526-b013304af712",
   "metadata": {},
   "outputs": [],
   "source": []
  },
  {
   "cell_type": "markdown",
   "id": "87a79bea-2a4c-431e-8967-ae4943329643",
   "metadata": {},
   "source": [
    "15. How to install python on Windose and set path variables?\n",
    "\n",
    "Answer --> 1. Right-clicking This PC and going to Properties.\n",
    "\n",
    "          2. Clicking on the Advanced system settings in the menu on the left.\n",
    "\n",
    "          3. Clicking on the Environment Variables button o​n the bottom right.\n",
    "\n",
    "          4. In the System variables section, selecting the Path variable and clicking on Edit. The next screen will show all the directories that are currently a part of the PATH variable.\n",
    "\n",
    "          5. Clicking on New and entering Python’s install directory."
   ]
  },
  {
   "cell_type": "code",
   "execution_count": null,
   "id": "242ecb65-82d3-4640-8ee0-5feffc533342",
   "metadata": {},
   "outputs": [],
   "source": []
  },
  {
   "cell_type": "markdown",
   "id": "55a75892-1e11-47dc-abdb-d1d8ae9e09a4",
   "metadata": {},
   "source": [
    "16. Is indentation required in python ?\n",
    "\n",
    "Answer --> Yes, absolutly it is required in python because like other programming language it does not supput {} for closing a block of code therefor at place of this we use indentation to close the code in a block "
   ]
  }
 ],
 "metadata": {
  "kernelspec": {
   "display_name": "Python 3 (ipykernel)",
   "language": "python",
   "name": "python3"
  },
  "language_info": {
   "codemirror_mode": {
    "name": "ipython",
    "version": 3
   },
   "file_extension": ".py",
   "mimetype": "text/x-python",
   "name": "python",
   "nbconvert_exporter": "python",
   "pygments_lexer": "ipython3",
   "version": "3.10.8"
  }
 },
 "nbformat": 4,
 "nbformat_minor": 5
}
